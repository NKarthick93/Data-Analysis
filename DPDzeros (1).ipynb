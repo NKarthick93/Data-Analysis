{
 "cells": [
  {
   "cell_type": "markdown",
   "metadata": {},
   "source": [
    "### Assignment\n",
    "\n",
    "- Use the data provided in data and loan details sheet and join them\n",
    "- Create beatiful charts for some of the below items where applicable\n",
    "- Distribution of loan count & amout vs profession\n",
    "- Distribution of loan amout  & amount vs loan product\n",
    "- Find out customers who have no loans\n",
    "- Find out customers with max number of loans\n",
    "- Find out top 10 customer by amount\n",
    "- Find out the distribution of DPD (Days past due date) across the loans\n",
    "- Aggregate the data by customer and find out - Whats the total amout owed, what is the last due date that has not been paid - what is the avg due date\n"
   ]
  },
  {
   "cell_type": "code",
   "execution_count": 1,
   "metadata": {},
   "outputs": [],
   "source": [
    "#importing libararies\n",
    "import pandas as pd\n",
    "import numpy as np\n",
    "import matplotlib.pyplot as plt\n",
    "import seaborn as sns"
   ]
  },
  {
   "cell_type": "code",
   "execution_count": 2,
   "metadata": {},
   "outputs": [],
   "source": [
    "## Loading data\n",
    "df1 = pd.read_excel('loan.xlsx', sheet_name='customers')\n",
    "df2 = pd.read_excel('loan.xlsx', sheet_name='loan details')"
   ]
  },
  {
   "cell_type": "code",
   "execution_count": 3,
   "metadata": {},
   "outputs": [
    {
     "data": {
      "text/html": [
       "<div>\n",
       "<style scoped>\n",
       "    .dataframe tbody tr th:only-of-type {\n",
       "        vertical-align: middle;\n",
       "    }\n",
       "\n",
       "    .dataframe tbody tr th {\n",
       "        vertical-align: top;\n",
       "    }\n",
       "\n",
       "    .dataframe thead th {\n",
       "        text-align: right;\n",
       "    }\n",
       "</style>\n",
       "<table border=\"1\" class=\"dataframe\">\n",
       "  <thead>\n",
       "    <tr style=\"text-align: right;\">\n",
       "      <th></th>\n",
       "      <th>customer_id</th>\n",
       "      <th>firstname</th>\n",
       "      <th>lastname</th>\n",
       "      <th>email</th>\n",
       "      <th>profession</th>\n",
       "    </tr>\n",
       "  </thead>\n",
       "  <tbody>\n",
       "    <tr>\n",
       "      <th>0</th>\n",
       "      <td>100.0</td>\n",
       "      <td>Tomasina</td>\n",
       "      <td>Marcellus</td>\n",
       "      <td>Tomasina.Marcellus@yopmail.com</td>\n",
       "      <td>police officer</td>\n",
       "    </tr>\n",
       "    <tr>\n",
       "      <th>1</th>\n",
       "      <td>101.0</td>\n",
       "      <td>Alex</td>\n",
       "      <td>Rodmann</td>\n",
       "      <td>Alex.Rodmann@yopmail.com</td>\n",
       "      <td>developer</td>\n",
       "    </tr>\n",
       "    <tr>\n",
       "      <th>2</th>\n",
       "      <td>102.0</td>\n",
       "      <td>Diena</td>\n",
       "      <td>Manolo</td>\n",
       "      <td>Diena.Manolo@yopmail.com</td>\n",
       "      <td>firefighter</td>\n",
       "    </tr>\n",
       "    <tr>\n",
       "      <th>3</th>\n",
       "      <td>103.0</td>\n",
       "      <td>Cristine</td>\n",
       "      <td>Yuille</td>\n",
       "      <td>Cristine.Yuille@yopmail.com</td>\n",
       "      <td>firefighter</td>\n",
       "    </tr>\n",
       "    <tr>\n",
       "      <th>4</th>\n",
       "      <td>104.0</td>\n",
       "      <td>Dania</td>\n",
       "      <td>Auberbach</td>\n",
       "      <td>Dania.Auberbach@yopmail.com</td>\n",
       "      <td>doctor</td>\n",
       "    </tr>\n",
       "  </tbody>\n",
       "</table>\n",
       "</div>"
      ],
      "text/plain": [
       "   customer_id firstname   lastname                           email  \\\n",
       "0        100.0  Tomasina  Marcellus  Tomasina.Marcellus@yopmail.com   \n",
       "1        101.0      Alex    Rodmann        Alex.Rodmann@yopmail.com   \n",
       "2        102.0     Diena     Manolo        Diena.Manolo@yopmail.com   \n",
       "3        103.0  Cristine     Yuille     Cristine.Yuille@yopmail.com   \n",
       "4        104.0     Dania  Auberbach     Dania.Auberbach@yopmail.com   \n",
       "\n",
       "       profession  \n",
       "0  police officer  \n",
       "1       developer  \n",
       "2     firefighter  \n",
       "3     firefighter  \n",
       "4          doctor  "
      ]
     },
     "execution_count": 3,
     "metadata": {},
     "output_type": "execute_result"
    }
   ],
   "source": [
    "## Reading data\n",
    "df1.head()"
   ]
  },
  {
   "cell_type": "code",
   "execution_count": 4,
   "metadata": {},
   "outputs": [
    {
     "data": {
      "text/html": [
       "<div>\n",
       "<style scoped>\n",
       "    .dataframe tbody tr th:only-of-type {\n",
       "        vertical-align: middle;\n",
       "    }\n",
       "\n",
       "    .dataframe tbody tr th {\n",
       "        vertical-align: top;\n",
       "    }\n",
       "\n",
       "    .dataframe thead th {\n",
       "        text-align: right;\n",
       "    }\n",
       "</style>\n",
       "<table border=\"1\" class=\"dataframe\">\n",
       "  <thead>\n",
       "    <tr style=\"text-align: right;\">\n",
       "      <th></th>\n",
       "      <th>loan_number</th>\n",
       "      <th>loan_product</th>\n",
       "      <th>amount_pending</th>\n",
       "      <th>due_date</th>\n",
       "      <th>customer_id</th>\n",
       "    </tr>\n",
       "  </thead>\n",
       "  <tbody>\n",
       "    <tr>\n",
       "      <th>0</th>\n",
       "      <td>100.0</td>\n",
       "      <td>NaN</td>\n",
       "      <td>374.69</td>\n",
       "      <td>2020-12-19</td>\n",
       "      <td>440.0</td>\n",
       "    </tr>\n",
       "    <tr>\n",
       "      <th>1</th>\n",
       "      <td>101.0</td>\n",
       "      <td>bnpl</td>\n",
       "      <td>688.80</td>\n",
       "      <td>2021-02-14</td>\n",
       "      <td>555.0</td>\n",
       "    </tr>\n",
       "    <tr>\n",
       "      <th>2</th>\n",
       "      <td>102.0</td>\n",
       "      <td>vehicle loan</td>\n",
       "      <td>928.87</td>\n",
       "      <td>2021-03-19</td>\n",
       "      <td>250.0</td>\n",
       "    </tr>\n",
       "    <tr>\n",
       "      <th>3</th>\n",
       "      <td>103.0</td>\n",
       "      <td>personal loan</td>\n",
       "      <td>433.99</td>\n",
       "      <td>2020-09-07</td>\n",
       "      <td>180.0</td>\n",
       "    </tr>\n",
       "    <tr>\n",
       "      <th>4</th>\n",
       "      <td>104.0</td>\n",
       "      <td>vehicle loan</td>\n",
       "      <td>157.55</td>\n",
       "      <td>2020-10-01</td>\n",
       "      <td>597.0</td>\n",
       "    </tr>\n",
       "  </tbody>\n",
       "</table>\n",
       "</div>"
      ],
      "text/plain": [
       "   loan_number   loan_product  amount_pending   due_date  customer_id\n",
       "0        100.0            NaN          374.69 2020-12-19        440.0\n",
       "1        101.0           bnpl          688.80 2021-02-14        555.0\n",
       "2        102.0   vehicle loan          928.87 2021-03-19        250.0\n",
       "3        103.0  personal loan          433.99 2020-09-07        180.0\n",
       "4        104.0   vehicle loan          157.55 2020-10-01        597.0"
      ]
     },
     "execution_count": 4,
     "metadata": {},
     "output_type": "execute_result"
    }
   ],
   "source": [
    "df2.head()"
   ]
  },
  {
   "cell_type": "markdown",
   "metadata": {},
   "source": [
    "#### Use the data provided in data and loan details sheet and join them"
   ]
  },
  {
   "cell_type": "code",
   "execution_count": 5,
   "metadata": {},
   "outputs": [],
   "source": [
    "## Combining data\n",
    "df = df1.merge(df2, how='left', left_on='customer_id', right_on='loan_number')"
   ]
  },
  {
   "cell_type": "code",
   "execution_count": 6,
   "metadata": {},
   "outputs": [
    {
     "data": {
      "text/html": [
       "<div>\n",
       "<style scoped>\n",
       "    .dataframe tbody tr th:only-of-type {\n",
       "        vertical-align: middle;\n",
       "    }\n",
       "\n",
       "    .dataframe tbody tr th {\n",
       "        vertical-align: top;\n",
       "    }\n",
       "\n",
       "    .dataframe thead th {\n",
       "        text-align: right;\n",
       "    }\n",
       "</style>\n",
       "<table border=\"1\" class=\"dataframe\">\n",
       "  <thead>\n",
       "    <tr style=\"text-align: right;\">\n",
       "      <th></th>\n",
       "      <th>customer_id_x</th>\n",
       "      <th>firstname</th>\n",
       "      <th>lastname</th>\n",
       "      <th>email</th>\n",
       "      <th>profession</th>\n",
       "      <th>loan_number</th>\n",
       "      <th>loan_product</th>\n",
       "      <th>amount_pending</th>\n",
       "      <th>due_date</th>\n",
       "      <th>customer_id_y</th>\n",
       "    </tr>\n",
       "  </thead>\n",
       "  <tbody>\n",
       "    <tr>\n",
       "      <th>0</th>\n",
       "      <td>100.0</td>\n",
       "      <td>Tomasina</td>\n",
       "      <td>Marcellus</td>\n",
       "      <td>Tomasina.Marcellus@yopmail.com</td>\n",
       "      <td>police officer</td>\n",
       "      <td>100.0</td>\n",
       "      <td>NaN</td>\n",
       "      <td>374.69</td>\n",
       "      <td>2020-12-19</td>\n",
       "      <td>440.0</td>\n",
       "    </tr>\n",
       "    <tr>\n",
       "      <th>1</th>\n",
       "      <td>101.0</td>\n",
       "      <td>Alex</td>\n",
       "      <td>Rodmann</td>\n",
       "      <td>Alex.Rodmann@yopmail.com</td>\n",
       "      <td>developer</td>\n",
       "      <td>101.0</td>\n",
       "      <td>bnpl</td>\n",
       "      <td>688.80</td>\n",
       "      <td>2021-02-14</td>\n",
       "      <td>555.0</td>\n",
       "    </tr>\n",
       "    <tr>\n",
       "      <th>2</th>\n",
       "      <td>102.0</td>\n",
       "      <td>Diena</td>\n",
       "      <td>Manolo</td>\n",
       "      <td>Diena.Manolo@yopmail.com</td>\n",
       "      <td>firefighter</td>\n",
       "      <td>102.0</td>\n",
       "      <td>vehicle loan</td>\n",
       "      <td>928.87</td>\n",
       "      <td>2021-03-19</td>\n",
       "      <td>250.0</td>\n",
       "    </tr>\n",
       "    <tr>\n",
       "      <th>3</th>\n",
       "      <td>103.0</td>\n",
       "      <td>Cristine</td>\n",
       "      <td>Yuille</td>\n",
       "      <td>Cristine.Yuille@yopmail.com</td>\n",
       "      <td>firefighter</td>\n",
       "      <td>103.0</td>\n",
       "      <td>personal loan</td>\n",
       "      <td>433.99</td>\n",
       "      <td>2020-09-07</td>\n",
       "      <td>180.0</td>\n",
       "    </tr>\n",
       "    <tr>\n",
       "      <th>4</th>\n",
       "      <td>104.0</td>\n",
       "      <td>Dania</td>\n",
       "      <td>Auberbach</td>\n",
       "      <td>Dania.Auberbach@yopmail.com</td>\n",
       "      <td>doctor</td>\n",
       "      <td>104.0</td>\n",
       "      <td>vehicle loan</td>\n",
       "      <td>157.55</td>\n",
       "      <td>2020-10-01</td>\n",
       "      <td>597.0</td>\n",
       "    </tr>\n",
       "  </tbody>\n",
       "</table>\n",
       "</div>"
      ],
      "text/plain": [
       "   customer_id_x firstname   lastname                           email  \\\n",
       "0          100.0  Tomasina  Marcellus  Tomasina.Marcellus@yopmail.com   \n",
       "1          101.0      Alex    Rodmann        Alex.Rodmann@yopmail.com   \n",
       "2          102.0     Diena     Manolo        Diena.Manolo@yopmail.com   \n",
       "3          103.0  Cristine     Yuille     Cristine.Yuille@yopmail.com   \n",
       "4          104.0     Dania  Auberbach     Dania.Auberbach@yopmail.com   \n",
       "\n",
       "       profession  loan_number   loan_product  amount_pending   due_date  \\\n",
       "0  police officer        100.0            NaN          374.69 2020-12-19   \n",
       "1       developer        101.0           bnpl          688.80 2021-02-14   \n",
       "2     firefighter        102.0   vehicle loan          928.87 2021-03-19   \n",
       "3     firefighter        103.0  personal loan          433.99 2020-09-07   \n",
       "4          doctor        104.0   vehicle loan          157.55 2020-10-01   \n",
       "\n",
       "   customer_id_y  \n",
       "0          440.0  \n",
       "1          555.0  \n",
       "2          250.0  \n",
       "3          180.0  \n",
       "4          597.0  "
      ]
     },
     "execution_count": 6,
     "metadata": {},
     "output_type": "execute_result"
    }
   ],
   "source": [
    "df.head()"
   ]
  },
  {
   "cell_type": "markdown",
   "metadata": {},
   "source": [
    "#### Create beatiful charts for some of the below items where applicable"
   ]
  },
  {
   "cell_type": "code",
   "execution_count": 7,
   "metadata": {},
   "outputs": [
    {
     "data": {
      "image/png": "[encoded data removed]",
      "text/plain": [
       "<Figure size 432x288 with 1 Axes>"
      ]
     },
     "metadata": {},
     "output_type": "display_data"
    }
   ],
   "source": [
    "import matplotlib.pyplot as plt\n",
    "## Pie Chart visualization to understand the Adaptivity level of students\n",
    "cmap = plt.get_cmap(\"tab10\")\n",
    "sns.set_style(\"darkgrid\")\n",
    "colors = cmap(np.array([1, 2, 5, 6, 9, 10]))\n",
    "X= df.groupby(['loan_product'])['loan_product'].count().to_frame()\n",
    "plt.pie(X['loan_product'],colors= colors,labels = X.index,startangle = 90, autopct = \"%1.0f%%\", explode = None, shadow = True)\n",
    "plt.title(\"Categories of loan_product\")\n",
    "plt.show()"
   ]
  },
  {
   "cell_type": "markdown",
   "metadata": {},
   "source": [
    "### Distribution of loan count & amout vs profession"
   ]
  },
  {
   "cell_type": "code",
   "execution_count": 8,
   "metadata": {},
   "outputs": [
    {
     "name": "stderr",
     "output_type": "stream",
     "text": [
      "C:\\Users\\uttreshwarg\\Anaconda3\\lib\\site-packages\\seaborn\\categorical.py:3704: UserWarning: The `factorplot` function has been renamed to `catplot`. The original name will be removed in a future release. Please update your code. Note that the default `kind` in `factorplot` (`'point'`) has changed `'strip'` in `catplot`.\n",
      "  warnings.warn(msg)\n"
     ]
    },
    {
     "data": {
      "text/plain": [
       "<Figure size 720x720 with 0 Axes>"
      ]
     },
     "metadata": {},
     "output_type": "display_data"
    },
    {
     "data": {
      "image/png": "[encoded data removed]",
      "text/plain": [
       "<Figure size 456.5x360 with 1 Axes>"
      ]
     },
     "metadata": {},
     "output_type": "display_data"
    }
   ],
   "source": [
    "import seaborn as sns\n",
    "plt.figure(figsize =(10, 10))\n",
    "sns.set_style(\"darkgrid\")\n",
    "sns.factorplot(y=\"profession\", hue=\"loan_product\", kind=\"count\",\n",
    "            palette=\"pastel\", edgecolor=\".7\",\n",
    "            data=df)\n",
    "plt.title('Profession vs loan_product')\n",
    "plt.show()"
   ]
  },
  {
   "cell_type": "markdown",
   "metadata": {},
   "source": [
    "### Distribution of loan amout & amount vs loan product"
   ]
  },
  {
   "cell_type": "code",
   "execution_count": 9,
   "metadata": {},
   "outputs": [
    {
     "data": {
      "text/plain": [
       "Text(0.5, 1.0, '')"
      ]
     },
     "execution_count": 9,
     "metadata": {},
     "output_type": "execute_result"
    },
    {
     "data": {
      "image/png": "[encoded data removed]",
      "text/plain": [
       "<Figure size 432x288 with 1 Axes>"
      ]
     },
     "metadata": {},
     "output_type": "display_data"
    }
   ],
   "source": [
    "plt.figure(figsize =(6, 4))\n",
    "sns.set_style(\"darkgrid\")\n",
    "sns.histplot(data=df, x=\"amount_pending\", hue=\"loan_product\", multiple=\"stack\", palette=['DarkTurquoise', 'grey','Plum'])\n",
    "plt.title(\"\")"
   ]
  },
  {
   "cell_type": "code",
   "execution_count": 10,
   "metadata": {},
   "outputs": [
    {
     "data": {
      "text/plain": [
       "<AxesSubplot:xlabel='amount_pending', ylabel='Density'>"
      ]
     },
     "execution_count": 10,
     "metadata": {},
     "output_type": "execute_result"
    },
    {
     "data": {
      "image/png": "[encoded data removed]",
      "text/plain": [
       "<Figure size 432x288 with 1 Axes>"
      ]
     },
     "metadata": {},
     "output_type": "display_data"
    }
   ],
   "source": [
    "plt.figure(figsize =(6, 4))\n",
    "sns.set_style(\"darkgrid\")\n",
    "sns.kdeplot(data=df, x=\"amount_pending\", hue=\"profession\", multiple=\"stack\")"
   ]
  },
  {
   "cell_type": "markdown",
   "metadata": {},
   "source": [
    "### Find out customers who have no loans"
   ]
  },
  {
   "cell_type": "code",
   "execution_count": 11,
   "metadata": {},
   "outputs": [
    {
     "data": {
      "text/html": [
       "<div>\n",
       "<style scoped>\n",
       "    .dataframe tbody tr th:only-of-type {\n",
       "        vertical-align: middle;\n",
       "    }\n",
       "\n",
       "    .dataframe tbody tr th {\n",
       "        vertical-align: top;\n",
       "    }\n",
       "\n",
       "    .dataframe thead th {\n",
       "        text-align: right;\n",
       "    }\n",
       "</style>\n",
       "<table border=\"1\" class=\"dataframe\">\n",
       "  <thead>\n",
       "    <tr style=\"text-align: right;\">\n",
       "      <th></th>\n",
       "      <th>customer_id_x</th>\n",
       "      <th>firstname</th>\n",
       "      <th>lastname</th>\n",
       "      <th>email</th>\n",
       "      <th>profession</th>\n",
       "      <th>loan_number</th>\n",
       "      <th>loan_product</th>\n",
       "      <th>amount_pending</th>\n",
       "      <th>due_date</th>\n",
       "      <th>customer_id_y</th>\n",
       "    </tr>\n",
       "  </thead>\n",
       "  <tbody>\n",
       "  </tbody>\n",
       "</table>\n",
       "</div>"
      ],
      "text/plain": [
       "Empty DataFrame\n",
       "Columns: [customer_id_x, firstname, lastname, email, profession, loan_number, loan_product, amount_pending, due_date, customer_id_y]\n",
       "Index: []"
      ]
     },
     "execution_count": 11,
     "metadata": {},
     "output_type": "execute_result"
    }
   ],
   "source": [
    "customers_not_having_loan = df[df['amount_pending'] <= 1]\n",
    "customers_not_having_loan"
   ]
  },
  {
   "cell_type": "markdown",
   "metadata": {},
   "source": [
    "### Find out customers with max number of loans"
   ]
  },
  {
   "cell_type": "code",
   "execution_count": 12,
   "metadata": {},
   "outputs": [],
   "source": [
    "customer_having_max_number_of_loan = df.groupby(['firstname'])[['firstname','amount_pending']].size()\n",
    "customer_having_max_number_of_loan = pd.DataFrame(customer_having_max_number_of_loan, columns=['Count'])"
   ]
  },
  {
   "cell_type": "code",
   "execution_count": 13,
   "metadata": {},
   "outputs": [
    {
     "data": {
      "text/html": [
       "<div>\n",
       "<style scoped>\n",
       "    .dataframe tbody tr th:only-of-type {\n",
       "        vertical-align: middle;\n",
       "    }\n",
       "\n",
       "    .dataframe tbody tr th {\n",
       "        vertical-align: top;\n",
       "    }\n",
       "\n",
       "    .dataframe thead th {\n",
       "        text-align: right;\n",
       "    }\n",
       "</style>\n",
       "<table border=\"1\" class=\"dataframe\">\n",
       "  <thead>\n",
       "    <tr style=\"text-align: right;\">\n",
       "      <th></th>\n",
       "      <th>Count</th>\n",
       "    </tr>\n",
       "    <tr>\n",
       "      <th>firstname</th>\n",
       "      <th></th>\n",
       "    </tr>\n",
       "  </thead>\n",
       "  <tbody>\n",
       "    <tr>\n",
       "      <th>Ada</th>\n",
       "      <td>2</td>\n",
       "    </tr>\n",
       "    <tr>\n",
       "      <th>Addia</th>\n",
       "      <td>4</td>\n",
       "    </tr>\n",
       "    <tr>\n",
       "      <th>Adele</th>\n",
       "      <td>1</td>\n",
       "    </tr>\n",
       "    <tr>\n",
       "      <th>Adelle</th>\n",
       "      <td>2</td>\n",
       "    </tr>\n",
       "    <tr>\n",
       "      <th>Adore</th>\n",
       "      <td>1</td>\n",
       "    </tr>\n",
       "  </tbody>\n",
       "</table>\n",
       "</div>"
      ],
      "text/plain": [
       "           Count\n",
       "firstname       \n",
       "Ada            2\n",
       "Addia          4\n",
       "Adele          1\n",
       "Adelle         2\n",
       "Adore          1"
      ]
     },
     "execution_count": 13,
     "metadata": {},
     "output_type": "execute_result"
    }
   ],
   "source": [
    "customer_having_max_number_of_loan.head()"
   ]
  },
  {
   "cell_type": "markdown",
   "metadata": {},
   "source": [
    "### Find out top 10 customer by amount"
   ]
  },
  {
   "cell_type": "code",
   "execution_count": 14,
   "metadata": {},
   "outputs": [
    {
     "data": {
      "text/html": [
       "<div>\n",
       "<style scoped>\n",
       "    .dataframe tbody tr th:only-of-type {\n",
       "        vertical-align: middle;\n",
       "    }\n",
       "\n",
       "    .dataframe tbody tr th {\n",
       "        vertical-align: top;\n",
       "    }\n",
       "\n",
       "    .dataframe thead th {\n",
       "        text-align: right;\n",
       "    }\n",
       "</style>\n",
       "<table border=\"1\" class=\"dataframe\">\n",
       "  <thead>\n",
       "    <tr style=\"text-align: right;\">\n",
       "      <th></th>\n",
       "      <th>customer_id_x</th>\n",
       "      <th>firstname</th>\n",
       "      <th>lastname</th>\n",
       "      <th>email</th>\n",
       "      <th>profession</th>\n",
       "      <th>loan_number</th>\n",
       "      <th>loan_product</th>\n",
       "      <th>amount_pending</th>\n",
       "      <th>due_date</th>\n",
       "      <th>customer_id_y</th>\n",
       "    </tr>\n",
       "  </thead>\n",
       "  <tbody>\n",
       "    <tr>\n",
       "      <th>492</th>\n",
       "      <td>592.0</td>\n",
       "      <td>Wanda</td>\n",
       "      <td>Magdalen</td>\n",
       "      <td>Wanda.Magdalen@yopmail.com</td>\n",
       "      <td>doctor</td>\n",
       "      <td>592.0</td>\n",
       "      <td>NaN</td>\n",
       "      <td>999.25</td>\n",
       "      <td>2020-07-26</td>\n",
       "      <td>215.0</td>\n",
       "    </tr>\n",
       "    <tr>\n",
       "      <th>259</th>\n",
       "      <td>359.0</td>\n",
       "      <td>Tina</td>\n",
       "      <td>Lutero</td>\n",
       "      <td>Tina.Lutero@yopmail.com</td>\n",
       "      <td>firefighter</td>\n",
       "      <td>359.0</td>\n",
       "      <td>bnpl</td>\n",
       "      <td>998.63</td>\n",
       "      <td>2021-10-30</td>\n",
       "      <td>127.0</td>\n",
       "    </tr>\n",
       "    <tr>\n",
       "      <th>535</th>\n",
       "      <td>635.0</td>\n",
       "      <td>Eadie</td>\n",
       "      <td>Helfand</td>\n",
       "      <td>Eadie.Helfand@yopmail.com</td>\n",
       "      <td>doctor</td>\n",
       "      <td>635.0</td>\n",
       "      <td>NaN</td>\n",
       "      <td>998.08</td>\n",
       "      <td>2020-09-30</td>\n",
       "      <td>422.0</td>\n",
       "    </tr>\n",
       "    <tr>\n",
       "      <th>263</th>\n",
       "      <td>363.0</td>\n",
       "      <td>Emma</td>\n",
       "      <td>Abram</td>\n",
       "      <td>Emma.Abram@yopmail.com</td>\n",
       "      <td>firefighter</td>\n",
       "      <td>363.0</td>\n",
       "      <td>personal loan</td>\n",
       "      <td>996.01</td>\n",
       "      <td>2021-12-27</td>\n",
       "      <td>123.0</td>\n",
       "    </tr>\n",
       "    <tr>\n",
       "      <th>136</th>\n",
       "      <td>236.0</td>\n",
       "      <td>Malina</td>\n",
       "      <td>Middleton</td>\n",
       "      <td>Malina.Middleton@yopmail.com</td>\n",
       "      <td>doctor</td>\n",
       "      <td>236.0</td>\n",
       "      <td>bnpl</td>\n",
       "      <td>995.04</td>\n",
       "      <td>2021-03-27</td>\n",
       "      <td>268.0</td>\n",
       "    </tr>\n",
       "    <tr>\n",
       "      <th>253</th>\n",
       "      <td>353.0</td>\n",
       "      <td>Codie</td>\n",
       "      <td>Deny</td>\n",
       "      <td>Codie.Deny@yopmail.com</td>\n",
       "      <td>firefighter</td>\n",
       "      <td>353.0</td>\n",
       "      <td>vehicle loan</td>\n",
       "      <td>992.73</td>\n",
       "      <td>2021-03-17</td>\n",
       "      <td>198.0</td>\n",
       "    </tr>\n",
       "    <tr>\n",
       "      <th>154</th>\n",
       "      <td>254.0</td>\n",
       "      <td>Hyacinthe</td>\n",
       "      <td>Uird</td>\n",
       "      <td>Hyacinthe.Uird@yopmail.com</td>\n",
       "      <td>worker</td>\n",
       "      <td>254.0</td>\n",
       "      <td>bnpl</td>\n",
       "      <td>990.99</td>\n",
       "      <td>2021-02-27</td>\n",
       "      <td>219.0</td>\n",
       "    </tr>\n",
       "    <tr>\n",
       "      <th>640</th>\n",
       "      <td>740.0</td>\n",
       "      <td>Livvyy</td>\n",
       "      <td>Calhoun</td>\n",
       "      <td>Livvyy.Calhoun@yopmail.com</td>\n",
       "      <td>police officer</td>\n",
       "      <td>740.0</td>\n",
       "      <td>vehicle loan</td>\n",
       "      <td>990.83</td>\n",
       "      <td>2021-06-30</td>\n",
       "      <td>289.0</td>\n",
       "    </tr>\n",
       "    <tr>\n",
       "      <th>149</th>\n",
       "      <td>249.0</td>\n",
       "      <td>Claresta</td>\n",
       "      <td>Mintz</td>\n",
       "      <td>Claresta.Mintz@yopmail.com</td>\n",
       "      <td>developer</td>\n",
       "      <td>249.0</td>\n",
       "      <td>vehicle loan</td>\n",
       "      <td>989.42</td>\n",
       "      <td>2021-01-19</td>\n",
       "      <td>349.0</td>\n",
       "    </tr>\n",
       "    <tr>\n",
       "      <th>550</th>\n",
       "      <td>650.0</td>\n",
       "      <td>Kristan</td>\n",
       "      <td>Eachern</td>\n",
       "      <td>Kristan.Eachern@yopmail.com</td>\n",
       "      <td>doctor</td>\n",
       "      <td>650.0</td>\n",
       "      <td>vehicle loan</td>\n",
       "      <td>989.28</td>\n",
       "      <td>2021-09-28</td>\n",
       "      <td>406.0</td>\n",
       "    </tr>\n",
       "  </tbody>\n",
       "</table>\n",
       "</div>"
      ],
      "text/plain": [
       "     customer_id_x  firstname   lastname                         email  \\\n",
       "492          592.0      Wanda   Magdalen    Wanda.Magdalen@yopmail.com   \n",
       "259          359.0       Tina     Lutero       Tina.Lutero@yopmail.com   \n",
       "535          635.0      Eadie    Helfand     Eadie.Helfand@yopmail.com   \n",
       "263          363.0       Emma      Abram        Emma.Abram@yopmail.com   \n",
       "136          236.0     Malina  Middleton  Malina.Middleton@yopmail.com   \n",
       "253          353.0      Codie       Deny        Codie.Deny@yopmail.com   \n",
       "154          254.0  Hyacinthe       Uird    Hyacinthe.Uird@yopmail.com   \n",
       "640          740.0     Livvyy    Calhoun    Livvyy.Calhoun@yopmail.com   \n",
       "149          249.0   Claresta      Mintz    Claresta.Mintz@yopmail.com   \n",
       "550          650.0    Kristan    Eachern   Kristan.Eachern@yopmail.com   \n",
       "\n",
       "         profession  loan_number   loan_product  amount_pending   due_date  \\\n",
       "492          doctor        592.0            NaN          999.25 2020-07-26   \n",
       "259     firefighter        359.0           bnpl          998.63 2021-10-30   \n",
       "535          doctor        635.0            NaN          998.08 2020-09-30   \n",
       "263     firefighter        363.0  personal loan          996.01 2021-12-27   \n",
       "136          doctor        236.0           bnpl          995.04 2021-03-27   \n",
       "253     firefighter        353.0   vehicle loan          992.73 2021-03-17   \n",
       "154          worker        254.0           bnpl          990.99 2021-02-27   \n",
       "640  police officer        740.0   vehicle loan          990.83 2021-06-30   \n",
       "149       developer        249.0   vehicle loan          989.42 2021-01-19   \n",
       "550          doctor        650.0   vehicle loan          989.28 2021-09-28   \n",
       "\n",
       "     customer_id_y  \n",
       "492          215.0  \n",
       "259          127.0  \n",
       "535          422.0  \n",
       "263          123.0  \n",
       "136          268.0  \n",
       "253          198.0  \n",
       "154          219.0  \n",
       "640          289.0  \n",
       "149          349.0  \n",
       "550          406.0  "
      ]
     },
     "execution_count": 14,
     "metadata": {},
     "output_type": "execute_result"
    }
   ],
   "source": [
    "df.nlargest(n=10,columns=['amount_pending'])"
   ]
  },
  {
   "cell_type": "markdown",
   "metadata": {},
   "source": [
    "### Find out the distribution of DPD (Days past due date) across the loans"
   ]
  },
  {
   "cell_type": "code",
   "execution_count": 23,
   "metadata": {},
   "outputs": [
    {
     "data": {
      "text/plain": [
       "<AxesSubplot:xlabel='due_date,due_date'>"
      ]
     },
     "execution_count": 23,
     "metadata": {},
     "output_type": "execute_result"
    },
    {
     "data": {
      "image/png": "[encoded data removed]",
      "text/plain": [
       "<Figure size 432x288 with 1 Axes>"
      ]
     },
     "metadata": {},
     "output_type": "display_data"
    }
   ],
   "source": [
    "df[\"due_date\"] = df[\"due_date\"].astype(\"datetime64\")\n",
    "df.groupby([df[\"due_date\"].dt.year, df[\"due_date\"].dt.month]).count().plot(kind=\"bar\",color = 'aqua')\n"
   ]
  },
  {
   "cell_type": "markdown",
   "metadata": {},
   "source": [
    "### Aggregate the data by customer and find out - Whats the total amout owed, what is the last due date that has not been paid - what is the avg due date"
   ]
  },
  {
   "cell_type": "code",
   "execution_count": 26,
   "metadata": {},
   "outputs": [
    {
     "data": {
      "text/plain": [
       "Index(['customer_id_x', 'firstname', 'lastname', 'email', 'profession',\n",
       "       'loan_number', 'loan_product', 'amount_pending', 'due_date',\n",
       "       'customer_id_y'],\n",
       "      dtype='object')"
      ]
     },
     "execution_count": 26,
     "metadata": {},
     "output_type": "execute_result"
    }
   ],
   "source": [
    "df.columns"
   ]
  },
  {
   "cell_type": "code",
   "execution_count": 34,
   "metadata": {},
   "outputs": [],
   "source": [
    "df3 = df.groupby(['firstname','amount_pending','due_date'])[['amount_pending','due_date']].size()"
   ]
  },
  {
   "cell_type": "code",
   "execution_count": 43,
   "metadata": {},
   "outputs": [],
   "source": [
    "df3 = df.groupby(['firstname','amount_pending','due_date'])[['amount_pending','due_date']].size().reset_index(name='count')"
   ]
  },
  {
   "cell_type": "code",
   "execution_count": 46,
   "metadata": {},
   "outputs": [
    {
     "data": {
      "text/html": [
       "<div>\n",
       "<style scoped>\n",
       "    .dataframe tbody tr th:only-of-type {\n",
       "        vertical-align: middle;\n",
       "    }\n",
       "\n",
       "    .dataframe tbody tr th {\n",
       "        vertical-align: top;\n",
       "    }\n",
       "\n",
       "    .dataframe thead th {\n",
       "        text-align: right;\n",
       "    }\n",
       "</style>\n",
       "<table border=\"1\" class=\"dataframe\">\n",
       "  <thead>\n",
       "    <tr style=\"text-align: right;\">\n",
       "      <th></th>\n",
       "      <th>firstname</th>\n",
       "      <th>amount_pending</th>\n",
       "      <th>due_date</th>\n",
       "      <th>count</th>\n",
       "    </tr>\n",
       "  </thead>\n",
       "  <tbody>\n",
       "    <tr>\n",
       "      <th>0</th>\n",
       "      <td>Ada</td>\n",
       "      <td>53.86</td>\n",
       "      <td>2021-02-09</td>\n",
       "      <td>1</td>\n",
       "    </tr>\n",
       "    <tr>\n",
       "      <th>1</th>\n",
       "      <td>Ada</td>\n",
       "      <td>273.61</td>\n",
       "      <td>2021-10-01</td>\n",
       "      <td>1</td>\n",
       "    </tr>\n",
       "    <tr>\n",
       "      <th>2</th>\n",
       "      <td>Addia</td>\n",
       "      <td>357.47</td>\n",
       "      <td>2021-10-18</td>\n",
       "      <td>1</td>\n",
       "    </tr>\n",
       "    <tr>\n",
       "      <th>3</th>\n",
       "      <td>Addia</td>\n",
       "      <td>771.91</td>\n",
       "      <td>2021-07-16</td>\n",
       "      <td>1</td>\n",
       "    </tr>\n",
       "    <tr>\n",
       "      <th>4</th>\n",
       "      <td>Addia</td>\n",
       "      <td>783.68</td>\n",
       "      <td>2020-09-04</td>\n",
       "      <td>1</td>\n",
       "    </tr>\n",
       "  </tbody>\n",
       "</table>\n",
       "</div>"
      ],
      "text/plain": [
       "  firstname  amount_pending   due_date  count\n",
       "0       Ada           53.86 2021-02-09      1\n",
       "1       Ada          273.61 2021-10-01      1\n",
       "2     Addia          357.47 2021-10-18      1\n",
       "3     Addia          771.91 2021-07-16      1\n",
       "4     Addia          783.68 2020-09-04      1"
      ]
     },
     "execution_count": 46,
     "metadata": {},
     "output_type": "execute_result"
    }
   ],
   "source": [
    "df3.head()"
   ]
  },
  {
   "cell_type": "code",
   "execution_count": 60,
   "metadata": {},
   "outputs": [],
   "source": [
    "df4 = df3.groupby(['firstname']).agg(avg_due_date = ('due_date',np.mean))"
   ]
  },
  {
   "cell_type": "code",
   "execution_count": 61,
   "metadata": {},
   "outputs": [
    {
     "data": {
      "text/html": [
       "<div>\n",
       "<style scoped>\n",
       "    .dataframe tbody tr th:only-of-type {\n",
       "        vertical-align: middle;\n",
       "    }\n",
       "\n",
       "    .dataframe tbody tr th {\n",
       "        vertical-align: top;\n",
       "    }\n",
       "\n",
       "    .dataframe thead th {\n",
       "        text-align: right;\n",
       "    }\n",
       "</style>\n",
       "<table border=\"1\" class=\"dataframe\">\n",
       "  <thead>\n",
       "    <tr style=\"text-align: right;\">\n",
       "      <th></th>\n",
       "      <th>avg_due_date</th>\n",
       "    </tr>\n",
       "    <tr>\n",
       "      <th>firstname</th>\n",
       "      <th></th>\n",
       "    </tr>\n",
       "  </thead>\n",
       "  <tbody>\n",
       "    <tr>\n",
       "      <th>Ada</th>\n",
       "      <td>2021-06-06 00:00:00</td>\n",
       "    </tr>\n",
       "    <tr>\n",
       "      <th>Addia</th>\n",
       "      <td>2021-03-04 06:00:00</td>\n",
       "    </tr>\n",
       "    <tr>\n",
       "      <th>Adele</th>\n",
       "      <td>2020-07-07 00:00:00</td>\n",
       "    </tr>\n",
       "    <tr>\n",
       "      <th>Adelle</th>\n",
       "      <td>2020-10-19 12:00:00</td>\n",
       "    </tr>\n",
       "    <tr>\n",
       "      <th>Adore</th>\n",
       "      <td>2021-12-21 00:00:00</td>\n",
       "    </tr>\n",
       "  </tbody>\n",
       "</table>\n",
       "</div>"
      ],
      "text/plain": [
       "                 avg_due_date\n",
       "firstname                    \n",
       "Ada       2021-06-06 00:00:00\n",
       "Addia     2021-03-04 06:00:00\n",
       "Adele     2020-07-07 00:00:00\n",
       "Adelle    2020-10-19 12:00:00\n",
       "Adore     2021-12-21 00:00:00"
      ]
     },
     "execution_count": 61,
     "metadata": {},
     "output_type": "execute_result"
    }
   ],
   "source": [
    "df4.head()"
   ]
  },
  {
   "cell_type": "code",
   "execution_count": null,
   "metadata": {},
   "outputs": [],
   "source": []
  }
 ],
 "metadata": {
  "kernelspec": {
   "display_name": "Python 3 (ipykernel)",
   "language": "python",
   "name": "python3"
  },
  "language_info": {
   "codemirror_mode": {
    "name": "ipython",
    "version": 3
   },
   "file_extension": ".py",
   "mimetype": "text/x-python",
   "name": "python",
   "nbconvert_exporter": "python",
   "pygments_lexer": "ipython3",
   "version": "3.9.12"
  }
 },
 "nbformat": 4,
 "nbformat_minor": 2
}
